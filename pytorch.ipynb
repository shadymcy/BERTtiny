{
  "nbformat": 4,
  "nbformat_minor": 0,
  "metadata": {
    "colab": {
      "name": "Untitled0.ipynb",
      "provenance": [],
      "authorship_tag": "ABX9TyMOyXESESFVSkoO3cUH9DFX",
      "include_colab_link": true
    },
    "kernelspec": {
      "name": "python3",
      "display_name": "Python 3"
    },
    "language_info": {
      "name": "python"
    },
    "accelerator": "GPU"
  },
  "cells": [
    {
      "cell_type": "markdown",
      "metadata": {
        "id": "view-in-github",
        "colab_type": "text"
      },
      "source": [
        "<a href=\"https://colab.research.google.com/github/shadymcy/BERTtiny/blob/main/pytorch.ipynb\" target=\"_parent\"><img src=\"https://colab.research.google.com/assets/colab-badge.svg\" alt=\"Open In Colab\"/></a>"
      ]
    },
    {
      "cell_type": "code",
      "execution_count": 2,
      "metadata": {
        "colab": {
          "base_uri": "https://localhost:8080/"
        },
        "id": "Z6tvli18FuEQ",
        "outputId": "73cea755-0403-4bee-ee6c-125a76afab77"
      },
      "outputs": [
        {
          "output_type": "stream",
          "name": "stdout",
          "text": [
            "Wed Mar  2 10:05:19 2022       \n",
            "+-----------------------------------------------------------------------------+\n",
            "| NVIDIA-SMI 460.32.03    Driver Version: 460.32.03    CUDA Version: 11.2     |\n",
            "|-------------------------------+----------------------+----------------------+\n",
            "| GPU  Name        Persistence-M| Bus-Id        Disp.A | Volatile Uncorr. ECC |\n",
            "| Fan  Temp  Perf  Pwr:Usage/Cap|         Memory-Usage | GPU-Util  Compute M. |\n",
            "|                               |                      |               MIG M. |\n",
            "|===============================+======================+======================|\n",
            "|   0  Tesla T4            Off  | 00000000:00:04.0 Off |                    0 |\n",
            "| N/A   34C    P8     9W /  70W |      0MiB / 15109MiB |      0%      Default |\n",
            "|                               |                      |                  N/A |\n",
            "+-------------------------------+----------------------+----------------------+\n",
            "                                                                               \n",
            "+-----------------------------------------------------------------------------+\n",
            "| Processes:                                                                  |\n",
            "|  GPU   GI   CI        PID   Type   Process name                  GPU Memory |\n",
            "|        ID   ID                                                   Usage      |\n",
            "|=============================================================================|\n",
            "|  No running processes found                                                 |\n",
            "+-----------------------------------------------------------------------------+\n"
          ]
        }
      ],
      "source": [
        "!nvidia-smi"
      ]
    },
    {
      "cell_type": "code",
      "source": [
        "!pip3 install torch==1.10.2+cu113 torchvision==0.11.3+cu113 torchaudio===0.10.2+cu113 -f https://download.pytorch.org/whl/cu113/torch_stable.html"
      ],
      "metadata": {
        "colab": {
          "base_uri": "https://localhost:8080/"
        },
        "id": "pU3AvOlhF5mi",
        "outputId": "995f87b6-f50a-4276-e2da-0023912c1e61"
      },
      "execution_count": 5,
      "outputs": [
        {
          "output_type": "stream",
          "name": "stdout",
          "text": [
            "Looking in links: https://download.pytorch.org/whl/cu113/torch_stable.html\n",
            "Collecting torch==1.10.2+cu113\n",
            "  Downloading https://download.pytorch.org/whl/cu113/torch-1.10.2%2Bcu113-cp37-cp37m-linux_x86_64.whl (1821.4 MB)\n",
            "\u001b[K     |██████████████▋                 | 834.1 MB 1.3 MB/s eta 0:12:30tcmalloc: large alloc 1147494400 bytes == 0x55dba8912000 @  0x7f942cfc7615 0x55dba56f73bc 0x55dba57d818a 0x55dba56fa1cd 0x55dba57ecb3d 0x55dba576e458 0x55dba576902f 0x55dba56fbaba 0x55dba576e2c0 0x55dba576902f 0x55dba56fbaba 0x55dba576acd4 0x55dba57ed986 0x55dba576a350 0x55dba57ed986 0x55dba576a350 0x55dba57ed986 0x55dba576a350 0x55dba56fbf19 0x55dba573fa79 0x55dba56fab32 0x55dba576e1dd 0x55dba576902f 0x55dba56fbaba 0x55dba576acd4 0x55dba576902f 0x55dba56fbaba 0x55dba5769eae 0x55dba56fb9da 0x55dba576a108 0x55dba576902f\n",
            "\u001b[K     |██████████████████▌             | 1055.7 MB 1.3 MB/s eta 0:09:46tcmalloc: large alloc 1434370048 bytes == 0x55dbecf68000 @  0x7f942cfc7615 0x55dba56f73bc 0x55dba57d818a 0x55dba56fa1cd 0x55dba57ecb3d 0x55dba576e458 0x55dba576902f 0x55dba56fbaba 0x55dba576e2c0 0x55dba576902f 0x55dba56fbaba 0x55dba576acd4 0x55dba57ed986 0x55dba576a350 0x55dba57ed986 0x55dba576a350 0x55dba57ed986 0x55dba576a350 0x55dba56fbf19 0x55dba573fa79 0x55dba56fab32 0x55dba576e1dd 0x55dba576902f 0x55dba56fbaba 0x55dba576acd4 0x55dba576902f 0x55dba56fbaba 0x55dba5769eae 0x55dba56fb9da 0x55dba576a108 0x55dba576902f\n",
            "\u001b[K     |███████████████████████▌        | 1336.2 MB 1.3 MB/s eta 0:06:07tcmalloc: large alloc 1792966656 bytes == 0x55dc42754000 @  0x7f942cfc7615 0x55dba56f73bc 0x55dba57d818a 0x55dba56fa1cd 0x55dba57ecb3d 0x55dba576e458 0x55dba576902f 0x55dba56fbaba 0x55dba576e2c0 0x55dba576902f 0x55dba56fbaba 0x55dba576acd4 0x55dba57ed986 0x55dba576a350 0x55dba57ed986 0x55dba576a350 0x55dba57ed986 0x55dba576a350 0x55dba56fbf19 0x55dba573fa79 0x55dba56fab32 0x55dba576e1dd 0x55dba576902f 0x55dba56fbaba 0x55dba576acd4 0x55dba576902f 0x55dba56fbaba 0x55dba5769eae 0x55dba56fb9da 0x55dba576a108 0x55dba576902f\n",
            "\u001b[K     |█████████████████████████████▊  | 1691.1 MB 1.2 MB/s eta 0:01:46tcmalloc: large alloc 2241208320 bytes == 0x55dba8912000 @  0x7f942cfc7615 0x55dba56f73bc 0x55dba57d818a 0x55dba56fa1cd 0x55dba57ecb3d 0x55dba576e458 0x55dba576902f 0x55dba56fbaba 0x55dba576e2c0 0x55dba576902f 0x55dba56fbaba 0x55dba576acd4 0x55dba57ed986 0x55dba576a350 0x55dba57ed986 0x55dba576a350 0x55dba57ed986 0x55dba576a350 0x55dba56fbf19 0x55dba573fa79 0x55dba56fab32 0x55dba576e1dd 0x55dba576902f 0x55dba56fbaba 0x55dba576acd4 0x55dba576902f 0x55dba56fbaba 0x55dba5769eae 0x55dba56fb9da 0x55dba576a108 0x55dba576902f\n",
            "\u001b[K     |████████████████████████████████| 1821.4 MB 1.2 MB/s eta 0:00:01tcmalloc: large alloc 1821433856 bytes == 0x55dc2e274000 @  0x7f942cfc61e7 0x55dba572d5d7 0x55dba56f73bc 0x55dba57d818a 0x55dba56fa1cd 0x55dba57ecb3d 0x55dba576e458 0x55dba576902f 0x55dba56fbaba 0x55dba576a108 0x55dba576902f 0x55dba56fbaba 0x55dba576a108 0x55dba576902f 0x55dba56fbaba 0x55dba576a108 0x55dba576902f 0x55dba56fbaba 0x55dba576a108 0x55dba576902f 0x55dba56fbaba 0x55dba576a108 0x55dba56fb9da 0x55dba576a108 0x55dba576902f 0x55dba56fbaba 0x55dba576acd4 0x55dba576902f 0x55dba56fbaba 0x55dba576acd4 0x55dba576902f\n",
            "tcmalloc: large alloc 2276794368 bytes == 0x55dc9ab82000 @  0x7f942cfc7615 0x55dba56f73bc 0x55dba57d818a 0x55dba56fa1cd 0x55dba57ecb3d 0x55dba576e458 0x55dba576902f 0x55dba56fbaba 0x55dba576a108 0x55dba576902f 0x55dba56fbaba 0x55dba576a108 0x55dba576902f 0x55dba56fbaba 0x55dba576a108 0x55dba576902f 0x55dba56fbaba 0x55dba576a108 0x55dba576902f 0x55dba56fbaba 0x55dba576a108 0x55dba56fb9da 0x55dba576a108 0x55dba576902f 0x55dba56fbaba 0x55dba576acd4 0x55dba576902f 0x55dba56fbaba 0x55dba576acd4 0x55dba576902f 0x55dba56fc151\n",
            "\u001b[K     |████████████████████████████████| 1821.4 MB 2.7 kB/s \n",
            "\u001b[?25hCollecting torchvision==0.11.3+cu113\n",
            "  Downloading https://download.pytorch.org/whl/cu113/torchvision-0.11.3%2Bcu113-cp37-cp37m-linux_x86_64.whl (24.5 MB)\n",
            "\u001b[K     |████████████████████████████████| 24.5 MB 1.3 MB/s \n",
            "\u001b[?25hCollecting torchaudio===0.10.2+cu113\n",
            "  Downloading https://download.pytorch.org/whl/cu113/torchaudio-0.10.2%2Bcu113-cp37-cp37m-linux_x86_64.whl (2.9 MB)\n",
            "\u001b[K     |████████████████████████████████| 2.9 MB 30.9 MB/s \n",
            "\u001b[?25hRequirement already satisfied: typing-extensions in /usr/local/lib/python3.7/dist-packages (from torch==1.10.2+cu113) (3.10.0.2)\n",
            "Requirement already satisfied: numpy in /usr/local/lib/python3.7/dist-packages (from torchvision==0.11.3+cu113) (1.21.5)\n",
            "Requirement already satisfied: pillow!=8.3.0,>=5.3.0 in /usr/local/lib/python3.7/dist-packages (from torchvision==0.11.3+cu113) (7.1.2)\n",
            "Installing collected packages: torch, torchvision, torchaudio\n",
            "  Attempting uninstall: torch\n",
            "    Found existing installation: torch 1.10.0+cu111\n",
            "    Uninstalling torch-1.10.0+cu111:\n",
            "      Successfully uninstalled torch-1.10.0+cu111\n",
            "  Attempting uninstall: torchvision\n",
            "    Found existing installation: torchvision 0.11.1+cu111\n",
            "    Uninstalling torchvision-0.11.1+cu111:\n",
            "      Successfully uninstalled torchvision-0.11.1+cu111\n",
            "  Attempting uninstall: torchaudio\n",
            "    Found existing installation: torchaudio 0.10.0+cu111\n",
            "    Uninstalling torchaudio-0.10.0+cu111:\n",
            "      Successfully uninstalled torchaudio-0.10.0+cu111\n",
            "\u001b[31mERROR: pip's dependency resolver does not currently take into account all the packages that are installed. This behaviour is the source of the following dependency conflicts.\n",
            "torchtext 0.11.0 requires torch==1.10.0, but you have torch 1.10.2+cu113 which is incompatible.\u001b[0m\n",
            "Successfully installed torch-1.10.2+cu113 torchaudio-0.10.2+cu113 torchvision-0.11.3+cu113\n"
          ]
        }
      ]
    },
    {
      "cell_type": "code",
      "source": [
        "import torch"
      ],
      "metadata": {
        "id": "Ab4X0Vm-G9Ea"
      },
      "execution_count": 7,
      "outputs": []
    },
    {
      "cell_type": "code",
      "source": [
        "torch.cuda.is_available()"
      ],
      "metadata": {
        "colab": {
          "base_uri": "https://localhost:8080/"
        },
        "id": "ddwVUo_dHIM2",
        "outputId": "c1d1ae9b-a674-47d5-b9a2-06fb8ac6d072"
      },
      "execution_count": 8,
      "outputs": [
        {
          "output_type": "execute_result",
          "data": {
            "text/plain": [
              "True"
            ]
          },
          "metadata": {},
          "execution_count": 8
        }
      ]
    }
  ]
}